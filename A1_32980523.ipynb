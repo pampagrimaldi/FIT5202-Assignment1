{
 "cells": [
  {
   "cell_type": "markdown",
   "metadata": {},
   "source": [
    "# FIT5202 Assignment 1 : Retail Analysis  Solution\n",
    "\n",
    "## Table of Contents\n",
    "* \n",
    "    * [Part 1 : Working with RDD](#part-1)\n",
    "        * [1.1 Data Preparation and Loading](#1.1)\n",
    "        * [1.2 Data Partitioning in RDD](#1.2)\n",
    "        * [1.3 Query/Analysis](#1.3)\n",
    "    * [Part 2 : Working with DataFrames](#2-dataframes)\n",
    "        * [2.1 Data Preparation and Loading](#2-dataframes)\n",
    "        * [2.2 Query/Analysis](#2.2)\n",
    "    * [Part 3 :  RDDs vs DataFrame vs Spark SQL](#part-3)"
   ]
  },
  {
   "cell_type": "markdown",
   "metadata": {},
   "source": [
    "# Part 1 : Working with RDDs <a class=\"anchor\" name=\"part-1\"></a>\n",
    "## 1. Working with RDD\n",
    "In this section, you will need to create RDDs from the given datasets, perform partitioning in these RDDs and use various RDD operations to answer the queries for retail analysis. \n",
    "\n",
    "### 1.1 Data Preparation and Loading <a class=\"anchor\" name=\"1.1\"></a>\n",
    "Write the code to create a SparkContext object using SparkSession, which tells Spark how to access a cluster. To create a SparkSession you first need to build a SparkConf object that contains information about your application, using Melbourne time as the session timezone. Give an appropriate name for your application and run Spark locally with as many working processors as logical cores on your machine. "
   ]
  },
  {
   "cell_type": "markdown",
   "metadata": {},
   "source": [
    "#### Define SparkConf"
   ]
  },
  {
   "cell_type": "code",
   "execution_count": 3,
   "metadata": {},
   "outputs": [],
   "source": [
    "# Import SparkConf class into program\n",
    "from pyspark import SparkConf\n",
    "\n",
    "# the below setup will run Spark in local mode with * working processors (equal to logical cores on the machine)\n",
    "master = \"local[*]\"\n",
    "\n",
    "# Setup `appName` field to be displayed at Spark cluster UI page\n",
    "app_name = \"FIT5202 Assignment 1\"\n",
    "# Setup configuration parameters for Spark\n",
    "spark_conf = SparkConf().setMaster(master).setAppName(app_name)\n",
    "\n",
    "# Import SparkSession classes\n",
    "from pyspark.sql import SparkSession  # Spark SQL"
   ]
  },
  {
   "cell_type": "markdown",
   "metadata": {},
   "source": [
    "#### Setup SparkSession"
   ]
  },
  {
   "cell_type": "code",
   "execution_count": 4,
   "metadata": {},
   "outputs": [],
   "source": [
    "# Import SparkContext and SparkSession classes\n",
    "from pyspark import SparkContext  # Spark\n",
    "from pyspark.sql import SparkSession  # Spark SQL\n",
    "\n",
    "# Setup SparkSession and configure it with Melbourne timezone.\n",
    "\n",
    "spark = (\n",
    "    SparkSession.builder.config(conf=spark_conf)\n",
    "    .config(\"spark.sql.session.timeZone\", \"UTC+11\")\n",
    "    .config(\"spark.driver.extraJavaOptions\", \"-Duser.timezone=GMT+11\")\n",
    "    .config(\"spark.executor.extraJavaOptions\", \"-Duser.timezone=GMT+11\")\n",
    "    .getOrCreate()\n",
    ")\n",
    "sc = spark.sparkContext\n",
    "sc.setLogLevel(\"ERROR\")"
   ]
  },
  {
   "cell_type": "markdown",
   "metadata": {},
   "source": [
    "#### Other Configuration"
   ]
  },
  {
   "cell_type": "code",
   "execution_count": 5,
   "metadata": {},
   "outputs": [],
   "source": [
    "import pprint as pp\n",
    "\n",
    "from pyspark.rdd import RDD"
   ]
  },
  {
   "cell_type": "markdown",
   "metadata": {},
   "source": [
    "Note that timezone has [Space for explanation here]\n",
    "\n",
    "https://stackoverflow.com/questions/49644232/how-to-set-timezone-to-utc-in-apache-spark"
   ]
  },
  {
   "cell_type": "markdown",
   "metadata": {},
   "source": [
    "#### User Defined Functions"
   ]
  },
  {
   "cell_type": "code",
   "execution_count": 6,
   "metadata": {},
   "outputs": [],
   "source": [
    "#! Create UDF that prepares and loads the data\n",
    "def prep_and_load(path):\n",
    "    \"\"\"\n",
    "    Function to create an rdd object and remove the first header row.\n",
    "    path: relative path to csv file\n",
    "    \"\"\"\n",
    "    # read text file as rdd\n",
    "    _ = sc.textFile(path)\n",
    "    # create header\n",
    "    header = _.first()\n",
    "    # filter out header\n",
    "    rdd = _.filter(lambda x: x != header)\n",
    "    return rdd\n",
    "\n",
    "\n",
    "def print_items(rdd, name, items):\n",
    "    \"\"\"\n",
    "    Print a given number of items of an rdd object.\n",
    "    RDD: rdd object\n",
    "    Name: Table Name\n",
    "    items: items to be shown\n",
    "    \"\"\"\n",
    "    print(\"---- {} first {} records ----\".format(name, items), \"\\n\")\n",
    "    print(\"Total count:\", rdd.count())\n",
    "    pp.pprint(rdd.take(items))\n",
    "    print(\" \")\n",
    "\n",
    "\n",
    "def print_partitions(data):\n",
    "    if isinstance(data, RDD):\n",
    "        numPartitions = data.getNumPartitions()\n",
    "        partitions = data.glom().collect()\n",
    "    else:\n",
    "        # make data an rdd object first\n",
    "        numPartitions = data.rdd.getNumPartitions()\n",
    "        partitions = data.rdd.glom().collect()\n",
    "\n",
    "    print(f\"####### NUMBER OF PARTITIONS: {numPartitions}\")\n",
    "    for index, partition in enumerate(partitions):\n",
    "        # show partition if it is not empty\n",
    "        if len(partition) > 0:\n",
    "            pp.pprint(f\"Partition {index}: {len(partition)} records\")\n",
    "            pp.pprint(partition)\n",
    "\n",
    "\n",
    "def schema_display(df, name):\n",
    "    print(\"---- {} ----\".format(name))\n",
    "    pp.pprint(df.printSchema())"
   ]
  },
  {
   "cell_type": "code",
   "execution_count": 7,
   "metadata": {},
   "outputs": [],
   "source": [
    "#! Build a check to make sure its properly changed the timezone."
   ]
  },
  {
   "cell_type": "markdown",
   "metadata": {},
   "source": [
    "#### 1.1.2 For each features, sales and stores RDDs, remove the header rows and display the total count and first 10 records. Hint : You can use csv.reader to parse rows in RDDs."
   ]
  },
  {
   "cell_type": "code",
   "execution_count": 8,
   "metadata": {},
   "outputs": [],
   "source": [
    "# loading the data into RDD\n",
    "features_rdd = prep_and_load(\"data/Features.csv\")\n",
    "sales_rdd = prep_and_load(\"data/sales.csv\")\n",
    "stores_rdd = prep_and_load(\"data/stores.csv\")"
   ]
  },
  {
   "cell_type": "code",
   "execution_count": 9,
   "metadata": {},
   "outputs": [
    {
     "name": "stdout",
     "output_type": "stream",
     "text": [
      "---- Features RDD first 10 records ---- \n",
      "\n",
      "Total count: 8190\n",
      "['1,05/02/2010,42.31,2.572,NA,NA,NA,NA,NA,211.0963582,8.106,FALSE',\n",
      " '1,12/02/2010,38.51,2.548,NA,NA,NA,NA,NA,211.2421698,8.106,TRUE',\n",
      " '1,19/02/2010,39.93,2.514,NA,NA,NA,NA,NA,211.2891429,8.106,FALSE',\n",
      " '1,26/02/2010,46.63,2.561,NA,NA,NA,NA,NA,211.3196429,8.106,FALSE',\n",
      " '1,05/03/2010,46.5,2.625,NA,NA,NA,NA,NA,211.3501429,8.106,FALSE',\n",
      " '1,12/03/2010,57.79,2.667,NA,NA,NA,NA,NA,211.3806429,8.106,FALSE',\n",
      " '1,19/03/2010,54.58,2.72,NA,NA,NA,NA,NA,211.215635,8.106,FALSE',\n",
      " '1,26/03/2010,51.45,2.732,NA,NA,NA,NA,NA,211.0180424,8.106,FALSE',\n",
      " '1,02/04/2010,62.27,2.719,NA,NA,NA,NA,NA,210.8204499,7.808,FALSE',\n",
      " '1,09/04/2010,65.86,2.77,NA,NA,NA,NA,NA,210.6228574,7.808,FALSE']\n",
      " \n",
      "---- Sales RDD first 10 records ---- \n",
      "\n",
      "Total count: 421570\n",
      "['1,1,05/02/2010,24924.5,FALSE',\n",
      " '1,1,12/02/2010,46039.49,TRUE',\n",
      " '1,1,19/02/2010,41595.55,FALSE',\n",
      " '1,1,26/02/2010,19403.54,FALSE',\n",
      " '1,1,05/03/2010,21827.9,FALSE',\n",
      " '1,1,12/03/2010,21043.39,FALSE',\n",
      " '1,1,19/03/2010,22136.64,FALSE',\n",
      " '1,1,26/03/2010,26229.21,FALSE',\n",
      " '1,1,02/04/2010,57258.43,FALSE',\n",
      " '1,1,09/04/2010,42960.91,FALSE']\n",
      " \n",
      "---- Stores RDD first 10 records ---- \n",
      "\n",
      "Total count: 45\n",
      "['1,A,151315',\n",
      " '2,A,202307',\n",
      " '3,B,37392',\n",
      " '4,A,205863',\n",
      " '5,B,34875',\n",
      " '6,A,202505',\n",
      " '7,B,70713',\n",
      " '8,A,155078',\n",
      " '9,B,125833',\n",
      " '10,B,126512']\n",
      " \n"
     ]
    }
   ],
   "source": [
    "# printing items\n",
    "print_items(features_rdd, \"Features RDD\", 10)\n",
    "print_items(sales_rdd, \"Sales RDD\", 10)\n",
    "print_items(stores_rdd, \"Stores RDD\", 10)"
   ]
  },
  {
   "cell_type": "code",
   "execution_count": 10,
   "metadata": {},
   "outputs": [],
   "source": [
    "#! ask if I should be doing it differently with csv reading (why is it hinted?)"
   ]
  },
  {
   "cell_type": "markdown",
   "metadata": {},
   "source": [
    "### 1.2 Data Partitioning in RDD <a class=\"anchor\" name=\"1.2\"></a>\n",
    "#### 1.2.1 How many partitions do the above RDDs have? How is the data in these RDDs partitioned by default, when we do not explicitly specify any partitioning strategy? Can you explain Why it will be partitioned in this number? Hint: searching the source code to try to understand the reason. "
   ]
  },
  {
   "cell_type": "code",
   "execution_count": 11,
   "metadata": {},
   "outputs": [
    {
     "name": "stdout",
     "output_type": "stream",
     "text": [
      "Features RDD partitions: 2\n",
      "Sales RDD partitions: 2\n",
      "Stores RDD partitions: 2\n"
     ]
    }
   ],
   "source": [
    "# check RDD partitions\n",
    "print(\"Features RDD partitions:\", features_rdd.getNumPartitions())\n",
    "print(\"Sales RDD partitions:\", sales_rdd.getNumPartitions())\n",
    "print(\"Stores RDD partitions:\", stores_rdd.getNumPartitions())"
   ]
  },
  {
   "cell_type": "markdown",
   "metadata": {},
   "source": [
    "The reason behind the default number of partitions is suggested in the `textFile` documentation:\n",
    "```java\n",
    "/**\n",
    "   * Read a text file from HDFS, a local file system (available on all nodes), or any\n",
    "   * Hadoop-supported file system URI, and return it as an RDD of Strings.\n",
    "   * The text files must be encoded as UTF-8.\n",
    "   *\n",
    "   * @param path path to the text file on a supported file system\n",
    "   * @param minPartitions suggested minimum number of partitions for the resulting RDD\n",
    "   * @return RDD of lines of the text file\n",
    "   */\n",
    "  def textFile(\n",
    "      path: String,\n",
    "      minPartitions: Int = defaultMinPartitions): RDD[String] = withScope {\n",
    "    assertNotStopped()\n",
    "    hadoopFile(path, classOf[TextInputFormat], classOf[LongWritable], classOf[Text],\n",
    "      minPartitions).map(pair => pair._2.toString).setName(path)\n",
    "  }\n",
    "```\n",
    "\n",
    "The above code mentions the parameter minPartitions, which implies that 2 partitions seems to be the recommended minimum partition for a hadoop split."
   ]
  },
  {
   "cell_type": "markdown",
   "metadata": {},
   "source": [
    "#### 1.2.2. Create a key value RDD for the store RDD, use the store type as the key and all of columns as the value. Print out the first 5 records of the key-value RDD. "
   ]
  },
  {
   "cell_type": "code",
   "execution_count": 12,
   "metadata": {},
   "outputs": [],
   "source": [
    "# create a function with to split each line into a key and values.\n",
    "def parselines(line):\n",
    "    # split line separated by a comma\n",
    "    _ = line.split(\",\")\n",
    "    # return a tuple with the second element as key and the rest of the information as second element\n",
    "    return _[1], [_[0], _[2]]"
   ]
  },
  {
   "cell_type": "code",
   "execution_count": 13,
   "metadata": {},
   "outputs": [
    {
     "name": "stdout",
     "output_type": "stream",
     "text": [
      "---- Stores Key-Value first 5 records ---- \n",
      "\n",
      "Total count: 45\n",
      "[('A', ['1', '151315']),\n",
      " ('A', ['2', '202307']),\n",
      " ('B', ['3', '37392']),\n",
      " ('A', ['4', '205863']),\n",
      " ('B', ['5', '34875'])]\n",
      " \n"
     ]
    }
   ],
   "source": [
    "stores_rdd1 = stores_rdd.map(parselines)\n",
    "print_items(stores_rdd1, \"Stores Key-Value\", 5)"
   ]
  },
  {
   "cell_type": "markdown",
   "metadata": {},
   "source": [
    "#### 1.2.3. Write the code to seperate the store key-value RDD based on the store type (each type should be in the same partition). Print out the total partition's number and the number of records in each partition. "
   ]
  },
  {
   "cell_type": "code",
   "execution_count": 12,
   "metadata": {},
   "outputs": [],
   "source": [
    "# note the hash function is directly applied as it's a fairly straightforward transformacion of characters to numbers/\n",
    "partitioned_stores = stores_rdd1.partitionBy(3, lambda x: ord(x))"
   ]
  },
  {
   "cell_type": "code",
   "execution_count": 13,
   "metadata": {
    "tags": []
   },
   "outputs": [
    {
     "name": "stdout",
     "output_type": "stream",
     "text": [
      "####### NUMBER OF PARTITIONS: 3\n",
      "'Partition 0: 17 records'\n",
      "[('B', ['3', '37392']),\n",
      " ('B', ['5', '34875']),\n",
      " ('B', ['7', '70713']),\n",
      " ('B', ['9', '125833']),\n",
      " ('B', ['10', '126512']),\n",
      " ('B', ['12', '112238']),\n",
      " ('B', ['15', '123737']),\n",
      " ('B', ['16', '57197']),\n",
      " ('B', ['17', '93188']),\n",
      " ('B', ['18', '120653']),\n",
      " ('B', ['21', '140167']),\n",
      " ('B', ['22', '119557']),\n",
      " ('B', ['23', '114533']),\n",
      " ('B', ['25', '128107']),\n",
      " ('B', ['29', '93638']),\n",
      " ('B', ['35', '103681']),\n",
      " ('B', ['45', '118221'])]\n",
      "'Partition 1: 6 records'\n",
      "[('C', ['30', '42988']),\n",
      " ('C', ['37', '39910']),\n",
      " ('C', ['38', '39690']),\n",
      " ('C', ['42', '39690']),\n",
      " ('C', ['43', '41062']),\n",
      " ('C', ['44', '39910'])]\n",
      "'Partition 2: 22 records'\n",
      "[('A', ['1', '151315']),\n",
      " ('A', ['2', '202307']),\n",
      " ('A', ['4', '205863']),\n",
      " ('A', ['6', '202505']),\n",
      " ('A', ['8', '155078']),\n",
      " ('A', ['11', '207499']),\n",
      " ('A', ['13', '219622']),\n",
      " ('A', ['14', '200898']),\n",
      " ('A', ['19', '203819']),\n",
      " ('A', ['20', '203742']),\n",
      " ('A', ['24', '203819']),\n",
      " ('A', ['26', '152513']),\n",
      " ('A', ['27', '204184']),\n",
      " ('A', ['28', '206302']),\n",
      " ('A', ['31', '203750']),\n",
      " ('A', ['32', '203007']),\n",
      " ('A', ['33', '39690']),\n",
      " ('A', ['34', '158114']),\n",
      " ('A', ['36', '39910']),\n",
      " ('A', ['39', '184109']),\n",
      " ('A', ['40', '155083']),\n",
      " ('A', ['41', '196321'])]\n"
     ]
    }
   ],
   "source": [
    "print_partitions(partitioned_stores)"
   ]
  },
  {
   "cell_type": "markdown",
   "metadata": {},
   "source": [
    "### 1.3 Query/Analysis <a class=\"anchor\" name=\"1.3\"></a>\n",
    "For this part, write relevant RDD operations to answer the following queries.\n",
    "\n",
    "**1.3.1 Calculate the average weekly sales for each year.**"
   ]
  },
  {
   "cell_type": "code",
   "execution_count": 14,
   "metadata": {},
   "outputs": [],
   "source": [
    "# create UDFs\n",
    "\n",
    "\n",
    "def get_year(line):\n",
    "    line[2] = line[2][-4:]\n",
    "    return line"
   ]
  },
  {
   "cell_type": "code",
   "execution_count": 15,
   "metadata": {},
   "outputs": [],
   "source": [
    "# data prep\n",
    "sales_rdd = (\n",
    "    prep_and_load(\"data/sales.csv\")\n",
    "    .map(lambda x: x.split(\",\"))\n",
    "    .map(lambda x: get_year(x))\n",
    "    .map(lambda x: (x[2], float(x[3])))\n",
    ")"
   ]
  },
  {
   "cell_type": "code",
   "execution_count": 16,
   "metadata": {},
   "outputs": [
    {
     "name": "stdout",
     "output_type": "stream",
     "text": [
      "---- Sales first 5 records ---- \n",
      "\n",
      "Total count: 421570\n",
      "[('2010', 24924.5),\n",
      " ('2010', 46039.49),\n",
      " ('2010', 41595.55),\n",
      " ('2010', 19403.54),\n",
      " ('2010', 21827.9)]\n",
      " \n"
     ]
    }
   ],
   "source": [
    "print_items(sales_rdd, \"Sales\", 5)"
   ]
  },
  {
   "cell_type": "code",
   "execution_count": 17,
   "metadata": {},
   "outputs": [],
   "source": [
    "# solution from book\n",
    "# need to undersand solution more deeply.\n",
    "Avgsales_RDD = (\n",
    "    sales_rdd.map(lambda x: (x[0], (x[1], 1)))\n",
    "    .reduceByKey(lambda x, y: (x[0] + y[0], x[1] + y[1]))\n",
    "    .map(lambda x: (x[0], x[1][0] / x[1][1]))\n",
    "    .collect()\n",
    ")"
   ]
  },
  {
   "cell_type": "code",
   "execution_count": 18,
   "metadata": {},
   "outputs": [
    {
     "data": {
      "text/plain": [
       "[('2010', 16270.27573703275),\n",
       " ('2011', 15954.070675386221),\n",
       " ('2012', 15694.948597357119)]"
      ]
     },
     "execution_count": 18,
     "metadata": {},
     "output_type": "execute_result"
    }
   ],
   "source": [
    "Avgsales_RDD"
   ]
  },
  {
   "cell_type": "markdown",
   "metadata": {},
   "source": [
    "<div style=\"background:rgba(255,181,116,0.5);padding:10px\">\n",
    "    <strong>NOTE:</strong> Other ways are also acceptable if they can get the correct result. \n",
    "    \n",
    "\n",
    "</div>"
   ]
  },
  {
   "cell_type": "markdown",
   "metadata": {},
   "source": [
    "**1.3.2 Find the highest temperature record in 2011 in the 'type B' store. You should display the store ID, date, highest temperature and type in the result.**"
   ]
  },
  {
   "cell_type": "code",
   "execution_count": 19,
   "metadata": {},
   "outputs": [
    {
     "name": "stdout",
     "output_type": "stream",
     "text": [
      "---- Stores first 5 records ---- \n",
      "\n",
      "Total count: 45\n",
      "[('1', 'A'), ('2', 'A'), ('3', 'B'), ('4', 'A'), ('5', 'B')]\n",
      " \n"
     ]
    }
   ],
   "source": [
    "# Prepare Stores RDD\n",
    "\n",
    "stores_RDD = (\n",
    "    prep_and_load(\"data/stores.csv\")\n",
    "    .map(lambda x: x.split(\",\"))\n",
    "    .map(lambda x: (x[0], x[1]))\n",
    ")\n",
    "\n",
    "print_items(stores_RDD, \"Stores\", 5)"
   ]
  },
  {
   "cell_type": "code",
   "execution_count": 20,
   "metadata": {},
   "outputs": [
    {
     "name": "stdout",
     "output_type": "stream",
     "text": [
      "---- Features first 4 records ---- \n",
      "\n",
      "Total count: 8190\n",
      "[('1', ('2010', 42.31)),\n",
      " ('1', ('2010', 38.51)),\n",
      " ('1', ('2010', 39.93)),\n",
      " ('1', ('2010', 46.63))]\n",
      " \n"
     ]
    }
   ],
   "source": [
    "features_RDD = (\n",
    "    prep_and_load(\"data/Features.csv\")\n",
    "    .map(lambda x: x.split(\",\"))\n",
    "    .map(lambda x: x[0:3])\n",
    "    .map(lambda x: (x[0], (x[1][-4:], float(x[2]))))\n",
    ")\n",
    "\n",
    "print_items(features_RDD, \"Features\", 4)"
   ]
  },
  {
   "cell_type": "code",
   "execution_count": 21,
   "metadata": {},
   "outputs": [],
   "source": [
    "# join Store types to Features\n",
    "\n",
    "Features_RDD2 = (\n",
    "    features_RDD.join(stores_RDD)\n",
    "    .map(lambda x: ([x[0]] + list((x[1][0][0], x[1][0][1], x[1][1]))))\n",
    "    .filter(lambda x: x[3] == \"B\" and x[1] == \"2011\")\n",
    "    .max(lambda x: x[2])\n",
    ")"
   ]
  },
  {
   "cell_type": "code",
   "execution_count": 22,
   "metadata": {},
   "outputs": [
    {
     "data": {
      "text/plain": [
       "['10', '2011', 95.36, 'B']"
      ]
     },
     "execution_count": 22,
     "metadata": {},
     "output_type": "execute_result"
    }
   ],
   "source": [
    "Features_RDD2"
   ]
  },
  {
   "cell_type": "markdown",
   "metadata": {},
   "source": [
    "## Part 2. Working with DataFrames <a class=\"anchor\" name=\"2-dataframes\"></a>\n",
    "In this section, you will need to load the given datasets into PySpark DataFrames and use DataFrame functions to answer the queries.\n",
    "### 2.1 Data Preparation and Loading\n",
    "\n",
    "**2.1.1. Load features, sales and stores data into three separate dataframes. When you create your dataframes, please refer to the metadata file and think about the appropriate data type for each columns (Note: you could directly read the date column as the string type)**"
   ]
  },
  {
   "cell_type": "code",
   "execution_count": 23,
   "metadata": {},
   "outputs": [
    {
     "name": "stderr",
     "output_type": "stream",
     "text": [
      "WARNING:root:'PYARROW_IGNORE_TIMEZONE' environment variable was not set. It is required to set this environment variable to '1' in both driver and executor sides if you use pyarrow>=2.0.0. pandas-on-Spark will set it for you but it does not work if there is a Spark context already launched.\n"
     ]
    }
   ],
   "source": [
    "# setup\n",
    "import matplotlib.pyplot as plt\n",
    "import pyspark.pandas as ps\n",
    "import pyspark.sql.functions as F\n",
    "from pyspark.sql.functions import col, lit, to_date, to_timestamp\n",
    "from pyspark.sql.types import (\n",
    "    BooleanType,\n",
    "    FloatType,\n",
    "    IntegerType,\n",
    "    NumericType,\n",
    "    StringType,\n",
    "    StructField,\n",
    "    StructType,\n",
    ")"
   ]
  },
  {
   "cell_type": "code",
   "execution_count": 24,
   "metadata": {
    "tags": []
   },
   "outputs": [],
   "source": [
    "# create a list comprehension for loading the data with correct data types.\n",
    "\n",
    "features_labels = [\n",
    "    (\"Store\", StringType()),\n",
    "    (\"Date\", StringType()),\n",
    "    (\"Temperature\", FloatType()),\n",
    "    (\"Fuel_Price\", FloatType()),\n",
    "    (\"MarkDown1\", FloatType()),\n",
    "    (\"MarkDown2\", FloatType()),\n",
    "    (\"MarkDown3\", FloatType()),\n",
    "    (\"MarkDown4\", FloatType()),\n",
    "    (\"MarkDown5\", FloatType()),\n",
    "    (\"CPI\", FloatType()),\n",
    "    (\"Unemployment\", FloatType()),\n",
    "    (\"IsHoliday\", BooleanType()),\n",
    "]\n",
    "\n",
    "sales_labels = [\n",
    "    (\"Store\", StringType()),\n",
    "    (\"Dept\", StringType()),\n",
    "    (\"Date\", StringType()),\n",
    "    (\"Weekly_Sales\", FloatType()),\n",
    "    (\"IsHoliday\", BooleanType()),\n",
    "]\n",
    "\n",
    "stores_labels = [\n",
    "    (\"Store\", StringType()),\n",
    "    (\"Type\", StringType()),\n",
    "    (\"Size\", IntegerType()),\n",
    "]\n",
    "\n",
    "features_schema = StructType([StructField(x[0], x[1], True) for x in features_labels])\n",
    "sales_schema = StructType([StructField(x[0], x[1], True) for x in sales_labels])\n",
    "stores_schema = StructType([StructField(x[0], x[1], True) for x in stores_labels])"
   ]
  },
  {
   "cell_type": "code",
   "execution_count": 25,
   "metadata": {},
   "outputs": [],
   "source": [
    "# read with utf-8 encoding.\n",
    "\n",
    "df_features = (\n",
    "    spark.read.format(\"csv\")\n",
    "    .option(\"header\", True)\n",
    "    .option(\"encoding\", \"UTF-8\")\n",
    "    .load(\"data/Features.csv\", schema=features_schema)\n",
    ")\n",
    "\n",
    "df_sales = (\n",
    "    spark.read.format(\"csv\")\n",
    "    .option(\"header\", True)\n",
    "    .option(\"encoding\", \"UTF-8\")\n",
    "    .load(\"data/sales.csv\", schema=sales_schema)\n",
    ")\n",
    "\n",
    "df_stores = (\n",
    "    spark.read.format(\"csv\")\n",
    "    .option(\"header\", True)\n",
    "    .option(\"encoding\", \"UTF-8\")\n",
    "    .load(\"data/stores.csv\", schema=stores_schema)\n",
    ")"
   ]
  },
  {
   "cell_type": "markdown",
   "metadata": {},
   "source": [
    "\n",
    "**2.1.2 Display the schema of the features, sales and stores dataframes.**"
   ]
  },
  {
   "cell_type": "code",
   "execution_count": 26,
   "metadata": {},
   "outputs": [
    {
     "name": "stdout",
     "output_type": "stream",
     "text": [
      "---- Features DF Schema ----\n",
      "root\n",
      " |-- Store: string (nullable = true)\n",
      " |-- Date: string (nullable = true)\n",
      " |-- Temperature: float (nullable = true)\n",
      " |-- Fuel_Price: float (nullable = true)\n",
      " |-- MarkDown1: float (nullable = true)\n",
      " |-- MarkDown2: float (nullable = true)\n",
      " |-- MarkDown3: float (nullable = true)\n",
      " |-- MarkDown4: float (nullable = true)\n",
      " |-- MarkDown5: float (nullable = true)\n",
      " |-- CPI: float (nullable = true)\n",
      " |-- Unemployment: float (nullable = true)\n",
      " |-- IsHoliday: boolean (nullable = true)\n",
      "\n",
      "None\n",
      "---- Sales DF Schema ----\n",
      "root\n",
      " |-- Store: string (nullable = true)\n",
      " |-- Dept: string (nullable = true)\n",
      " |-- Date: string (nullable = true)\n",
      " |-- Weekly_Sales: float (nullable = true)\n",
      " |-- IsHoliday: boolean (nullable = true)\n",
      "\n",
      "None\n",
      "---- Stores DF Schema ----\n",
      "root\n",
      " |-- Store: string (nullable = true)\n",
      " |-- Type: string (nullable = true)\n",
      " |-- Size: integer (nullable = true)\n",
      "\n",
      "None\n"
     ]
    }
   ],
   "source": [
    "# print schema\n",
    "schema_display(df_features, \"Features DF Schema\")\n",
    "schema_display(df_sales, \"Sales DF Schema\")\n",
    "schema_display(df_stores, \"Stores DF Schema\")"
   ]
  },
  {
   "cell_type": "markdown",
   "metadata": {},
   "source": [
    "### 2.2 QueryAnalysis  <a class=\"anchor\" name=\"2.2\"></a>\n",
    "Implement the following queries using dataframes. You need to be able to perform operations like filtering, sorting, joining and group by using the functions provided by the DataFrame API. The following DF means dataframes.\n",
    "\n",
    "**2.2.1. Transform 'Date' column in both feature and sales dataframe to the date type, after that print out these two DFs schema to show the results.**"
   ]
  },
  {
   "cell_type": "code",
   "execution_count": 27,
   "metadata": {},
   "outputs": [],
   "source": [
    "# transform features date field to date type\n",
    "df_features = df_features.withColumn(\"Date\", to_date(col(\"Date\"), \"d/M/y\"))\n",
    "# transform sales date field to date type\n",
    "df_sales = df_sales.withColumn(\"Date\", to_date(col(\"Date\"), \"d/M/y\"))"
   ]
  },
  {
   "cell_type": "code",
   "execution_count": 28,
   "metadata": {},
   "outputs": [
    {
     "name": "stdout",
     "output_type": "stream",
     "text": [
      "---- Features DF ----\n",
      "root\n",
      " |-- Store: string (nullable = true)\n",
      " |-- Date: date (nullable = true)\n",
      " |-- Temperature: float (nullable = true)\n",
      " |-- Fuel_Price: float (nullable = true)\n",
      " |-- MarkDown1: float (nullable = true)\n",
      " |-- MarkDown2: float (nullable = true)\n",
      " |-- MarkDown3: float (nullable = true)\n",
      " |-- MarkDown4: float (nullable = true)\n",
      " |-- MarkDown5: float (nullable = true)\n",
      " |-- CPI: float (nullable = true)\n",
      " |-- Unemployment: float (nullable = true)\n",
      " |-- IsHoliday: boolean (nullable = true)\n",
      "\n",
      "None\n",
      "---- Sales DF ----\n",
      "root\n",
      " |-- Store: string (nullable = true)\n",
      " |-- Dept: string (nullable = true)\n",
      " |-- Date: date (nullable = true)\n",
      " |-- Weekly_Sales: float (nullable = true)\n",
      " |-- IsHoliday: boolean (nullable = true)\n",
      "\n",
      "None\n"
     ]
    }
   ],
   "source": [
    "# print schema\n",
    "schema_display(df_features, \"Features DF\")\n",
    "schema_display(df_sales, \"Sales DF\")"
   ]
  },
  {
   "cell_type": "markdown",
   "metadata": {},
   "source": [
    "**2.2.2. Calculate the average weekly sales for holiday week and non-holiday week seperately, order your result based on the average weekly sales in descending order. Print out the IsHoliday and average sales columns**"
   ]
  },
  {
   "cell_type": "code",
   "execution_count": 29,
   "metadata": {},
   "outputs": [
    {
     "name": "stdout",
     "output_type": "stream",
     "text": [
      "+---------+------------------+\n",
      "|IsHoliday|     average sales|\n",
      "+---------+------------------+\n",
      "|    false|15901.445067351051|\n",
      "|     true|17035.823179236566|\n",
      "+---------+------------------+\n",
      "\n"
     ]
    }
   ],
   "source": [
    "df_sales_avg = (\n",
    "    df_sales.groupby(\"IsHoliday\")\n",
    "    .agg(F.mean(\"Weekly_Sales\").alias(\"average sales\"))\n",
    "    .orderBy(\"average sales\")\n",
    ")\n",
    "\n",
    "df_sales_avg.show()"
   ]
  },
  {
   "cell_type": "markdown",
   "metadata": {},
   "source": [
    "**2.2.3.Based on different years and months, calculate the average weekly sales.**"
   ]
  },
  {
   "cell_type": "code",
   "execution_count": 30,
   "metadata": {},
   "outputs": [],
   "source": [
    "df_sales_avg2 = (\n",
    "    df_sales.withColumn(\"Year\", F.year(col(\"Date\")))\n",
    "    .withColumn(\"Month\", F.month(col(\"Date\")))\n",
    "    .groupby(\"Year\", \"Month\")\n",
    "    .agg(F.mean(\"Weekly_Sales\").alias(\"average sales\"))\n",
    "    .orderBy(\"Year\", \"Month\")\n",
    ")"
   ]
  },
  {
   "cell_type": "code",
   "execution_count": 31,
   "metadata": {},
   "outputs": [
    {
     "name": "stdout",
     "output_type": "stream",
     "text": [
      "+----+-----+------------------+\n",
      "|Year|Month|     average sales|\n",
      "+----+-----+------------------+\n",
      "|2010|    2| 16076.77870097281|\n",
      "|2010|    3|15432.626605889885|\n",
      "|2010|    4|15745.551349035144|\n",
      "|2010|    5|15996.481697140169|\n",
      "|2010|    6|16486.250949284375|\n",
      "|2010|    7|15972.812711132709|\n",
      "|2010|    8|16171.689294409856|\n",
      "|2010|    9|15120.086680005943|\n",
      "|2010|   10|14806.151500089774|\n",
      "|2010|   11|17320.130640785745|\n",
      "|2010|   12|19570.351259788942|\n",
      "|2011|    1|13997.773982892584|\n",
      "|2011|    2|15870.141205563425|\n",
      "|2011|    3|15182.972004079187|\n",
      "|2011|    4| 15361.89548697221|\n",
      "|2011|    5| 15367.86447580668|\n",
      "|2011|    6| 16188.12464341475|\n",
      "|2011|    7|15724.738315017767|\n",
      "|2011|    8| 16030.54247852901|\n",
      "|2011|    9| 14961.57024559697|\n",
      "+----+-----+------------------+\n",
      "only showing top 20 rows\n",
      "\n"
     ]
    }
   ],
   "source": [
    "df_sales_avg2.show()"
   ]
  },
  {
   "cell_type": "markdown",
   "metadata": {},
   "source": [
    "**2.2.4. Calculate the average MarkDown1 value in holiday week for all type C store.**"
   ]
  },
  {
   "cell_type": "code",
   "execution_count": 32,
   "metadata": {},
   "outputs": [],
   "source": [
    "df_features_avg = (\n",
    "    df_features.join(df_stores, df_features.Store == df_stores.Store, how=\"left\")\n",
    "    .filter(col(\"Type\") == \"C\")\n",
    "    .filter(col(\"IsHoliday\") == True)\n",
    "    .agg(F.mean(\"MarkDown1\").alias(\"Average Markdown 1 Value\"))\n",
    ")"
   ]
  },
  {
   "cell_type": "code",
   "execution_count": 33,
   "metadata": {},
   "outputs": [
    {
     "name": "stdout",
     "output_type": "stream",
     "text": [
      "+------------------------+\n",
      "|Average Markdown 1 Value|\n",
      "+------------------------+\n",
      "|       778.2502325918616|\n",
      "+------------------------+\n",
      "\n"
     ]
    }
   ],
   "source": [
    "df_features_avg.show()"
   ]
  },
  {
   "cell_type": "markdown",
   "metadata": {},
   "source": [
    "**2.2.5.show all stores total sales based on each different month and yearly total for each different store, only keep two decimal places after the decimal point.**"
   ]
  },
  {
   "cell_type": "code",
   "execution_count": 34,
   "metadata": {},
   "outputs": [],
   "source": [
    "df_sales_bystore = (\n",
    "    df_sales.withColumn(\"Year\", F.year(col(\"Date\")))\n",
    "    .withColumn(\"Month\", F.month(col(\"Date\")))\n",
    "    .groupby(\"Store\", \"Year\", \"Month\")\n",
    "    .agg(F.sum(\"Weekly_Sales\").alias(\"Total Sales\"))\n",
    "    .withColumn(\"Total Sales\", F.bround(\"Total Sales\", 2))\n",
    "    .orderBy(\"Store\", \"Year\", \"Month\")\n",
    ")"
   ]
  },
  {
   "cell_type": "code",
   "execution_count": 35,
   "metadata": {},
   "outputs": [
    {
     "name": "stdout",
     "output_type": "stream",
     "text": [
      "+-----+----+-----+-----------+\n",
      "|Store|Year|Month|Total Sales|\n",
      "+-----+----+-----+-----------+\n",
      "|    1|2010|    2| 6307344.11|\n",
      "|    1|2010|    3| 5871293.99|\n",
      "|    1|2010|    4| 7422801.96|\n",
      "|    1|2010|    5| 5929938.66|\n",
      "|    1|2010|    6| 6084081.46|\n",
      "|    1|2010|    7| 7244483.04|\n",
      "|    1|2010|    8| 6075952.96|\n",
      "|    1|2010|    9| 5829793.94|\n",
      "|    1|2010|   10| 7150641.75|\n",
      "|    1|2010|   11| 6485547.08|\n",
      "|    1|2010|   12| 8876953.18|\n",
      "|    1|2011|    1| 5480050.95|\n",
      "|    1|2011|    2| 6399887.56|\n",
      "|    1|2011|    3|  6307375.5|\n",
      "|    1|2011|    4| 7689123.63|\n",
      "|    1|2011|    5| 6128431.79|\n",
      "|    1|2011|    6| 6194971.69|\n",
      "|    1|2011|    7| 7227654.29|\n",
      "|    1|2011|    8| 6144985.74|\n",
      "|    1|2011|    9| 7379542.37|\n",
      "+-----+----+-----+-----------+\n",
      "only showing top 20 rows\n",
      "\n"
     ]
    }
   ],
   "source": [
    "df_sales_bystore.show()"
   ]
  },
  {
   "cell_type": "markdown",
   "metadata": {},
   "source": [
    "##### **2.2.6. Draw a scatter plot to show the relationship between weekly sales and unemployment rate, use the different color for the holiday week point. After that, discuss your findings based on the scatter plot**"
   ]
  },
  {
   "cell_type": "code",
   "execution_count": 36,
   "metadata": {},
   "outputs": [
    {
     "name": "stdout",
     "output_type": "stream",
     "text": [
      "+-----+----+----------+------------+---------+\n",
      "|Store|Dept|      Date|Weekly_Sales|IsHoliday|\n",
      "+-----+----+----------+------------+---------+\n",
      "|    1|   1|2010-02-05|     24924.5|    false|\n",
      "|    1|   1|2010-02-12|    46039.49|     true|\n",
      "|    1|   1|2010-02-19|    41595.55|    false|\n",
      "|    1|   1|2010-02-26|    19403.54|    false|\n",
      "|    1|   1|2010-03-05|     21827.9|    false|\n",
      "+-----+----+----------+------------+---------+\n",
      "only showing top 5 rows\n",
      "\n"
     ]
    }
   ],
   "source": [
    "df_sales.show(5)"
   ]
  },
  {
   "cell_type": "code",
   "execution_count": 37,
   "metadata": {},
   "outputs": [
    {
     "name": "stdout",
     "output_type": "stream",
     "text": [
      "+----------+---------+----------------------+\n",
      "|Sales_Date|IsHoliday|Total Sales (Millions)|\n",
      "+----------+---------+----------------------+\n",
      "|2010-02-05|    false|                 49.75|\n",
      "|2010-02-12|     true|                 48.34|\n",
      "|2010-02-19|    false|                 48.28|\n",
      "|2010-02-26|    false|                 43.97|\n",
      "|2010-03-05|    false|                 46.87|\n",
      "+----------+---------+----------------------+\n",
      "only showing top 5 rows\n",
      "\n"
     ]
    }
   ],
   "source": [
    "# First the weekly sales need to be aggregated by week, not by store\n",
    "df_sales_byweek = (\n",
    "    df_sales.groupby(\"Date\", \"IsHoliday\")\n",
    "    .agg(F.sum(\"Weekly_Sales\").alias(\"Total Sales (Millions)\"))\n",
    "    .withColumn(\n",
    "        \"Total Sales (Millions)\", F.bround(col(\"Total Sales (Millions)\") / 10**6, 2)\n",
    "    )\n",
    "    .orderBy(\"Date\")\n",
    "    .withColumnRenamed(\"Date\", \"Sales_Date\")\n",
    ")\n",
    "# check\n",
    "df_sales_byweek.show(5)"
   ]
  },
  {
   "cell_type": "code",
   "execution_count": 38,
   "metadata": {},
   "outputs": [],
   "source": [
    "df_sales_byweek2 = (\n",
    "    df_sales_byweek.join(\n",
    "        df_features.select(\"Date\", \"Unemployment\"),\n",
    "        df_sales_byweek.Sales_Date == df_features.Date,\n",
    "        how=\"right\",\n",
    "    )\n",
    "    .drop(\"Date\")\n",
    "    .toPandas()\n",
    ")"
   ]
  },
  {
   "cell_type": "code",
   "execution_count": 39,
   "metadata": {},
   "outputs": [
    {
     "data": {
      "text/plain": [
       "Text(0.5, 1.0, 'Relationship Between Unemployment and Sales')"
      ]
     },
     "execution_count": 39,
     "metadata": {},
     "output_type": "execute_result"
    },
    {
     "data": {
      "image/png": "[encoded data removed]",
      "text/plain": [
       "<Figure size 584.875x500 with 1 Axes>"
      ]
     },
     "metadata": {},
     "output_type": "display_data"
    }
   ],
   "source": [
    "# export to Pandas\n",
    "import seaborn as sns\n",
    "\n",
    "# use the function regplot to make a scatterplot\n",
    "\n",
    "sns.lmplot(\n",
    "    df_sales_byweek2, y=\"Total Sales (Millions)\", x=\"Unemployment\", hue=\"IsHoliday\"\n",
    ")\n",
    "\n",
    "plt.title(\"Relationship Between Unemployment and Sales\")"
   ]
  },
  {
   "cell_type": "markdown",
   "metadata": {},
   "source": [
    "<div style=\"background:rgba(255,181,116,0.5);padding:10px\">\n",
    "    <strong>NOTE:</strong> When the unemployment rate is larger than 10, it will have a big influence on weekly sales. \n",
    "\n",
    "</div>"
   ]
  },
  {
   "cell_type": "markdown",
   "metadata": {},
   "source": [
    "## Part 3 RDDs vs DataFrame vs Spark SQL (15%) <a class=\"anchor\" name=\"part-3\"></a>\n",
    "Implement the following queries using RDDs, DataFrames and SparkSQL separately. Log the time taken for each query in each approach using the “%%time” built-in magic command in Jupyter Notebook and discuss the performance difference of these 3 approaches.\n"
   ]
  },
  {
   "cell_type": "markdown",
   "metadata": {},
   "source": [
    "Why DF is faster than RDD? "
   ]
  },
  {
   "cell_type": "markdown",
   "metadata": {},
   "source": [
    "\n"
   ]
  },
  {
   "cell_type": "markdown",
   "metadata": {},
   "source": [
    "### Query: Calculate the average weekly fuel price for all stores' size larger than 150000."
   ]
  },
  {
   "cell_type": "code",
   "execution_count": 45,
   "metadata": {},
   "outputs": [],
   "source": [
    "# Prepare Features RDD\n",
    "features_RDD2 = (\n",
    "    prep_and_load(\"data/Features.csv\")\n",
    "    .map(lambda x: x.split(\",\"))\n",
    "    .map(lambda x: x[0:4])\n",
    "    .map(lambda x: (x[0], float(x[3])))\n",
    ")\n",
    "# Prepare Stores RDD\n",
    "stores_RDD2 = (\n",
    "    prep_and_load(\"data/stores.csv\")\n",
    "    .map(lambda x: x.split(\",\"))\n",
    "    .map(lambda x: (x[0], float(x[2])))\n",
    ")\n",
    "\n",
    "df_features = (\n",
    "    spark.read.format(\"csv\")\n",
    "    .option(\"header\", True)\n",
    "    .option(\"encoding\", \"UTF-8\")\n",
    "    .load(\"data/Features.csv\", schema=features_schema)\n",
    "    .withColumnRenamed(\"Store\", \"Features_store\")\n",
    ")\n",
    "\n",
    "df_stores = (\n",
    "    spark.read.format(\"csv\")\n",
    "    .option(\"header\", True)\n",
    "    .option(\"encoding\", \"UTF-8\")\n",
    "    .load(\"data/stores.csv\", schema=stores_schema)\n",
    ")\n",
    "\n",
    "# Create Views from Dataframes\n",
    "df_features.createOrReplaceTempView(\"sql_features\")\n",
    "df_stores.createOrReplaceTempView(\"sql_stores\")"
   ]
  },
  {
   "cell_type": "code",
   "execution_count": null,
   "metadata": {},
   "outputs": [],
   "source": []
  },
  {
   "cell_type": "markdown",
   "metadata": {},
   "source": [
    "### 3.1. For RDD"
   ]
  },
  {
   "cell_type": "code",
   "execution_count": 41,
   "metadata": {},
   "outputs": [
    {
     "name": "stdout",
     "output_type": "stream",
     "text": [
      "CPU times: user 16.6 ms, sys: 6.45 ms, total: 23.1 ms\n",
      "Wall time: 188 ms\n"
     ]
    }
   ],
   "source": [
    "%%time\n",
    "# Join RDDs, rounding results\n",
    "features_RDD_timed = (\n",
    "    features_RDD2.join(stores_RDD2)\n",
    "    .map(lambda x: ([x[0]] + list((x[1][0], x[1][1]))))\n",
    "    .filter(lambda x: x[2] > 150000)\n",
    "    .map(lambda x: (x[0], (x[1], 1)))\n",
    "    .reduceByKey(lambda x, y: (x[0] + y[0], x[1] + y[1]))\n",
    "    .map(lambda x: (x[0], x[1][0] / x[1][1]))\n",
    "    .collect()\n",
    ")\n",
    "\n",
    "# Reduce by key to calculate weekly stores"
   ]
  },
  {
   "cell_type": "markdown",
   "metadata": {},
   "source": [
    "### 3.2. For DataFrame"
   ]
  },
  {
   "cell_type": "code",
   "execution_count": 42,
   "metadata": {},
   "outputs": [
    {
     "name": "stdout",
     "output_type": "stream",
     "text": [
      "CPU times: user 5.32 ms, sys: 355 µs, total: 5.68 ms\n",
      "Wall time: 43.4 ms\n"
     ]
    }
   ],
   "source": [
    "%%time\n",
    "\n",
    "df_features_avg2 = (\n",
    "    df_features.join(\n",
    "        df_stores, df_features.Features_store == df_stores.Store, how=\"left\"\n",
    "    )\n",
    "    .drop(\"Features_Store\")\n",
    "    .filter(col(\"Size\") > 150000)\n",
    "    .groupby(\"Store\")\n",
    "    .agg(F.mean(\"Fuel_Price\"))\n",
    ")"
   ]
  },
  {
   "cell_type": "markdown",
   "metadata": {},
   "source": [
    "### 3.3. For Spark SQL"
   ]
  },
  {
   "cell_type": "code",
   "execution_count": 43,
   "metadata": {},
   "outputs": [
    {
     "name": "stdout",
     "output_type": "stream",
     "text": [
      "CPU times: user 2.39 ms, sys: 1.28 ms, total: 3.67 ms\n",
      "Wall time: 44.2 ms\n"
     ]
    }
   ],
   "source": [
    "%%time\n",
    "# Create Views from Dataframes\n",
    "df_features_avg3 = spark.sql(\n",
    "    \"\"\"\n",
    "    SELECT f.Features_store, AVG(f.Fuel_Price) AS avg_price\n",
    "    FROM sql_features f LEFT JOIN sql_stores s\n",
    "    ON f.Features_store=s.Store\n",
    "    WHERE Size > 150000\n",
    "    GROUP BY f.Features_store\n",
    "\"\"\"\n",
    ")"
   ]
  },
  {
   "cell_type": "code",
   "execution_count": 44,
   "metadata": {},
   "outputs": [
    {
     "name": "stdout",
     "output_type": "stream",
     "text": [
      "+--------------+------------------+\n",
      "|Features_store|         avg_price|\n",
      "+--------------+------------------+\n",
      "|            11| 3.259241756502089|\n",
      "|            34|3.2548846163592495|\n",
      "|             8| 3.259241756502089|\n",
      "|            28| 3.643653839499086|\n",
      "|            31| 3.259241756502089|\n",
      "|            27| 3.643357140677316|\n",
      "|            26|3.4978736206725403|\n",
      "|             6| 3.259241756502089|\n",
      "|            19| 3.643357140677316|\n",
      "|            41| 3.294401099393656|\n",
      "|            40|3.4978736206725403|\n",
      "|            24| 3.643357140677316|\n",
      "|            32| 3.294401099393656|\n",
      "|             1| 3.259241756502089|\n",
      "|            20| 3.476412084076431|\n",
      "|             4|3.2548846163592495|\n",
      "|            39| 3.259241756502089|\n",
      "|            13|3.3287637377833272|\n",
      "|            14| 3.476412084076431|\n",
      "|             2| 3.259241756502089|\n",
      "+--------------+------------------+\n",
      "\n"
     ]
    }
   ],
   "source": [
    "df_features_avg3.show()"
   ]
  },
  {
   "cell_type": "markdown",
   "metadata": {},
   "source": [
    "#### Summary\n",
    "\n",
    "The time might differ when running on different machines. Overall, the DataFrame and SQL queries run ...... compared with RDD.\n"
   ]
  },
  {
   "cell_type": "markdown",
   "metadata": {},
   "source": [
    "### Some ideas on the comparison\n",
    "\n",
    "Armbrust, M., Huai, Y., Liang, C., Xin, R., & Zaharia, M. (2015). Deep Dive into Spark SQL’s Catalyst Optimizer. Retrieved September 30, 2017, from https://databricks.com/blog/2015/04/13/deep-dive-into-spark-sqls-catalyst-optimizer.html\n",
    "\n",
    "Damji, J. (2016). A Tale of Three Apache Spark APIs: RDDs, DataFrames, and Datasets. Retrieved September 28, 2017, from https://databricks.com/blog/2016/07/14/a-tale-of-three-apache-spark-apis-rdds-dataframes-and-datasets.html\n",
    "\n",
    "Data Flair (2017a). Apache Spark RDD vs DataFrame vs DataSet. Retrieved September 28, 2017, from http://data-flair.training/blogs/apache-spark-rdd-vs-dataframe-vs-dataset\n",
    "\n",
    "Prakash, C. (2016). Apache Spark: RDD vs Dataframe vs Dataset. Retrieved September 28, 2017, from http://why-not-learn-something.blogspot.com.au/2016/07/apache-spark-rdd-vs-dataframe-vs-dataset.html\n",
    "\n",
    "Xin, R., & Rosen, J. (2015). Project Tungsten: Bringing Apache Spark Closer to Bare Metal. Retrieved September 30, 2017, from https://databricks.com/blog/2015/04/28/project-tungsten-bringing-spark-closer-to-bare-metal.html"
   ]
  }
 ],
 "metadata": {
  "kernelspec": {
   "display_name": "Python 3 (ipykernel)",
   "language": "python",
   "name": "python3"
  },
  "language_info": {
   "codemirror_mode": {
    "name": "ipython",
    "version": 3
   },
   "file_extension": ".py",
   "mimetype": "text/x-python",
   "name": "python",
   "nbconvert_exporter": "python",
   "pygments_lexer": "ipython3",
   "version": "3.8.15"
  }
 },
 "nbformat": 4,
 "nbformat_minor": 4
}
